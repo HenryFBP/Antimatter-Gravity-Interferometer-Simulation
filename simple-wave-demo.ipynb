{
 "cells": [
  {
   "cell_type": "code",
   "execution_count": 1,
   "metadata": {},
   "outputs": [],
   "source": [
    "import argparse\n",
    "import os  # Used in file saving function\n",
    "from time import strftime\n",
    "from typing import Tuple\n",
    "\n",
    "import matplotlib.pyplot as plt\n",
    "import numpy as np\n",
    "from numba import cuda\n",
    "\n",
    "from optical_simulation.cudaKernels import intensityCalculations\n",
    "from optical_simulation.gratingLib.Grating import Grating\n",
    "from optical_simulation.gratingLib.InitialSource import InitialSource"
   ]
  },
  {
   "cell_type": "code",
   "execution_count": 2,
   "metadata": {},
   "outputs": [],
   "source": [
    "screen_length=10000000\n",
    "numOfSlits=200\n",
    "slitWidth=50\n",
    "slitHeight=5\n",
    "numOfPointSources=100\n",
    "spacingType='uniform'\n",
    "U_0=1\n"
   ]
  },
  {
   "cell_type": "code",
   "execution_count": 3,
   "metadata": {},
   "outputs": [],
   "source": [
    "firstGrating = Grating(x=0, length=screen_length, numberOfSlits=numOfSlits, slitWidth=slitWidth,\n",
    "                       slitHeight=slitHeight, sourcesPerSlit=numOfPointSources, sourceSpacing=spacingType)"
   ]
  },
  {
   "cell_type": "code",
   "execution_count": 5,
   "metadata": {},
   "outputs": [
    {
     "data": {
      "text/plain": [
       "<optical_simulation.gratingLib.Grating.Grating at 0x7f0e97a396d8>"
      ]
     },
     "execution_count": 5,
     "metadata": {},
     "output_type": "execute_result"
    }
   ],
   "source": [
    "firstGrating"
   ]
  },
  {
   "cell_type": "code",
   "execution_count": 7,
   "metadata": {},
   "outputs": [],
   "source": [
    "initSource = InitialSource(xPosition=-1e7, yPosition=screen_length / 2, waveType='plane', initialAmplitude=U_0)"
   ]
  },
  {
   "cell_type": "code",
   "execution_count": 8,
   "metadata": {},
   "outputs": [
    {
     "data": {
      "text/plain": [
       "<optical_simulation.gratingLib.InitialSource.InitialSource at 0x7f0e96ad43c8>"
      ]
     },
     "execution_count": 8,
     "metadata": {},
     "output_type": "execute_result"
    }
   ],
   "source": [
    "initSource"
   ]
  },
  {
   "cell_type": "code",
   "execution_count": null,
   "metadata": {},
   "outputs": [],
   "source": []
  }
 ],
 "metadata": {
  "kernelspec": {
   "display_name": "Python 3",
   "language": "python",
   "name": "python3"
  },
  "language_info": {
   "codemirror_mode": {
    "name": "ipython",
    "version": 3
   },
   "file_extension": ".py",
   "mimetype": "text/x-python",
   "name": "python",
   "nbconvert_exporter": "python",
   "pygments_lexer": "ipython3",
   "version": "3.7.3"
  }
 },
 "nbformat": 4,
 "nbformat_minor": 2
}
